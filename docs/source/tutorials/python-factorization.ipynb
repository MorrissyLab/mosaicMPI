{
 "cells": [
  {
   "cell_type": "markdown",
   "id": "a02d38ea",
   "metadata": {},
   "source": [
    "# Python factorization tutorial"
   ]
  },
  {
   "cell_type": "markdown",
   "id": "4fbe9b43",
   "metadata": {},
   "source": []
  }
 ],
 "metadata": {
  "language_info": {
   "name": "python"
  }
 },
 "nbformat": 4,
 "nbformat_minor": 5
}
